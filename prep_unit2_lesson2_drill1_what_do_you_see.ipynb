{
 "cells": [
  {
   "cell_type": "markdown",
   "metadata": {},
   "source": [
    "### Unit 2 Lesson 2 Drill 1 - Data Visualization: What do you see?\n",
    "Saheed Tijani<br>\n",
    "Nov 2018"
   ]
  },
  {
   "cell_type": "code",
   "execution_count": 32,
   "metadata": {},
   "outputs": [],
   "source": [
    "#import relevant tools\n",
    "\n",
    "import pandas as pd\n",
    "import numpy as np\n",
    "import matplotlib.pyplot as plt\n",
    "import seaborn as sns\n",
    "%matplotlib inline \n",
    "\n",
    "#the %matplotlib inline stateent ensures plots are always generated in the note not popup"
   ]
  },
  {
   "cell_type": "code",
   "execution_count": 33,
   "metadata": {},
   "outputs": [
    {
     "data": {
      "text/html": [
       "<div>\n",
       "<style scoped>\n",
       "    .dataframe tbody tr th:only-of-type {\n",
       "        vertical-align: middle;\n",
       "    }\n",
       "\n",
       "    .dataframe tbody tr th {\n",
       "        vertical-align: top;\n",
       "    }\n",
       "\n",
       "    .dataframe thead th {\n",
       "        text-align: right;\n",
       "    }\n",
       "</style>\n",
       "<table border=\"1\" class=\"dataframe\">\n",
       "  <thead>\n",
       "    <tr style=\"text-align: right;\">\n",
       "      <th></th>\n",
       "      <th>gender</th>\n",
       "      <th>race/ethnicity</th>\n",
       "      <th>parental level of education</th>\n",
       "      <th>lunch</th>\n",
       "      <th>test preparation course</th>\n",
       "      <th>math_score</th>\n",
       "      <th>reading_score</th>\n",
       "      <th>writing_score</th>\n",
       "    </tr>\n",
       "  </thead>\n",
       "  <tbody>\n",
       "    <tr>\n",
       "      <th>0</th>\n",
       "      <td>female</td>\n",
       "      <td>group B</td>\n",
       "      <td>bachelor's degree</td>\n",
       "      <td>standard</td>\n",
       "      <td>none</td>\n",
       "      <td>72</td>\n",
       "      <td>72</td>\n",
       "      <td>74</td>\n",
       "    </tr>\n",
       "    <tr>\n",
       "      <th>1</th>\n",
       "      <td>female</td>\n",
       "      <td>group C</td>\n",
       "      <td>some college</td>\n",
       "      <td>standard</td>\n",
       "      <td>completed</td>\n",
       "      <td>69</td>\n",
       "      <td>90</td>\n",
       "      <td>88</td>\n",
       "    </tr>\n",
       "    <tr>\n",
       "      <th>2</th>\n",
       "      <td>female</td>\n",
       "      <td>group B</td>\n",
       "      <td>master's degree</td>\n",
       "      <td>standard</td>\n",
       "      <td>none</td>\n",
       "      <td>90</td>\n",
       "      <td>95</td>\n",
       "      <td>93</td>\n",
       "    </tr>\n",
       "    <tr>\n",
       "      <th>3</th>\n",
       "      <td>male</td>\n",
       "      <td>group A</td>\n",
       "      <td>associate's degree</td>\n",
       "      <td>free/reduced</td>\n",
       "      <td>none</td>\n",
       "      <td>47</td>\n",
       "      <td>57</td>\n",
       "      <td>44</td>\n",
       "    </tr>\n",
       "    <tr>\n",
       "      <th>4</th>\n",
       "      <td>male</td>\n",
       "      <td>group C</td>\n",
       "      <td>some college</td>\n",
       "      <td>standard</td>\n",
       "      <td>none</td>\n",
       "      <td>76</td>\n",
       "      <td>78</td>\n",
       "      <td>75</td>\n",
       "    </tr>\n",
       "  </tbody>\n",
       "</table>\n",
       "</div>"
      ],
      "text/plain": [
       "   gender race/ethnicity parental level of education         lunch  \\\n",
       "0  female        group B           bachelor's degree      standard   \n",
       "1  female        group C                some college      standard   \n",
       "2  female        group B             master's degree      standard   \n",
       "3    male        group A          associate's degree  free/reduced   \n",
       "4    male        group C                some college      standard   \n",
       "\n",
       "  test preparation course  math_score  reading_score  writing_score  \n",
       "0                    none          72             72             74  \n",
       "1               completed          69             90             88  \n",
       "2                    none          90             95             93  \n",
       "3                    none          47             57             44  \n",
       "4                    none          76             78             75  "
      ]
     },
     "execution_count": 33,
     "metadata": {},
     "output_type": "execute_result"
    }
   ],
   "source": [
    "#Grab and structure the data\n",
    "\n",
    "df = pd.read_csv('students_performance.csv')\n",
    "df.head()"
   ]
  },
  {
   "cell_type": "markdown",
   "metadata": {},
   "source": [
    "### First let's used boxplot to have a look a the participartiting students' race and ethnicity"
   ]
  },
  {
   "cell_type": "code",
   "execution_count": null,
   "metadata": {},
   "outputs": [],
   "source": []
  },
  {
   "cell_type": "markdown",
   "metadata": {},
   "source": [
    "### Now we will use histogram to visualize the score distribution of the participation students across the three subjects."
   ]
  },
  {
   "cell_type": "code",
   "execution_count": 34,
   "metadata": {},
   "outputs": [
    {
     "data": {
      "image/png": "[encoded data removed]",
      "text/plain": [
       "<Figure size 1080x360 with 3 Axes>"
      ]
     },
     "metadata": {
      "needs_background": "light"
     },
     "output_type": "display_data"
    }
   ],
   "source": [
    "plt.figure(figsize=(15, 5))\n",
    "\n",
    "plt.subplot(1, 3, 1)\n",
    "plt.subplots_adjust(left=None, bottom=None, right=None, top=None, wspace=.5, hspace=None)\n",
    "\n",
    "plt.hist(df['math_score'], color='purple')\n",
    "plt.ylabel('numer of students')\n",
    "plt.xlabel('maths scores')\n",
    "plt.title('Scores in Maths - Unisex')\n",
    "#plt.title('Random Series')\n",
    "\n",
    "plt.subplot(1, 3, 2)\n",
    "plt.hist(df['reading_score'], color='green')\n",
    "plt.ylabel('numer of students')\n",
    "plt.xlabel('reading scores')\n",
    "plt.title('Scores in Reading - Unisex')\n",
    "\n",
    "plt.subplot(1, 3, 3)\n",
    "plt.hist(df['writing_score'], color='blue')\n",
    "plt.ylabel('numer of students')\n",
    "plt.xlabel('writing scores')\n",
    "plt.title('Scores in Writing - Unisex')\n",
    "\n",
    "plt.show()"
   ]
  },
  {
   "cell_type": "markdown",
   "metadata": {},
   "source": [
    "##### The subplot above shows the score distribution among the students in the three subjects. It's clear from the plot that majority of the students scores fall within the interquatile range (i.e 50 - 75) across all the subjects. A similar number of students scored above 75% in the three sujects. "
   ]
  },
  {
   "cell_type": "markdown",
   "metadata": {},
   "source": [
    "### Next, we will create a new column 'gender_num' that will change the data points in the gender category to 0 and 1. We will then use that categorization to create a boxplot"
   ]
  },
  {
   "cell_type": "code",
   "execution_count": 46,
   "metadata": {},
   "outputs": [
    {
     "data": {
      "image/png": "[encoded data removed]",
      "text/plain": [
       "<Figure size 432x288 with 1 Axes>"
      ]
     },
     "metadata": {
      "needs_background": "light"
     },
     "output_type": "display_data"
    }
   ],
   "source": [
    "#re-categorize gender into 0 and 1\n",
    "df['gender_num'] = np.where(df['gender'] == 'male', 1, 0)\n",
    "\n",
    "#let's have a box plot of the number male and female in the data\n",
    "gender_count = df.gender_num.value_counts()\n",
    "plt.boxplot(gender_count)\n",
    "plt.title('Boxplot of the Gender column')\n",
    "plt.show()"
   ]
  },
  {
   "cell_type": "markdown",
   "metadata": {},
   "source": [
    "### Now we will filter the data frame based on sex to see how scores in the three subjects are distributed across gender."
   ]
  },
  {
   "cell_type": "code",
   "execution_count": 36,
   "metadata": {},
   "outputs": [
    {
     "name": "stdout",
     "output_type": "stream",
     "text": [
      "Number pf participating male is: 482 \n",
      "\n",
      "Number pf participating female is: 518\n"
     ]
    }
   ],
   "source": [
    "#filter out data for male students\n",
    "df_gender_male = df[df.gender_num == 1]\n",
    "print('Number pf participating male is: {} {}'.format(len(df_gender_male), \"\\n\"))\n",
    "\n",
    "#filter out data for female students\n",
    "df_gender_female = df[df.gender_num == 0]\n",
    "print('Number pf participating female is: {}'.format(len(df_gender_female)))"
   ]
  },
  {
   "cell_type": "code",
   "execution_count": 37,
   "metadata": {},
   "outputs": [
    {
     "data": {
      "image/png": "[encoded data removed]",
      "text/plain": [
       "<Figure size 1080x360 with 3 Axes>"
      ]
     },
     "metadata": {
      "needs_background": "light"
     },
     "output_type": "display_data"
    }
   ],
   "source": [
    "#determines plot size\n",
    "plt.figure(figsize=(15, 5))\n",
    "\n",
    "#specifies the border seperations between subplots\n",
    "plt.subplots_adjust(left=None, bottom=None, right=None, top=None, wspace=.5, hspace=None)\n",
    "\n",
    "plt.subplot(1, 3, 1)\n",
    "plt.hist(df_gender_male['math_score'], color='blue', alpha=.5, label='male')\n",
    "plt.hist(df_gender_female['math_score'], color='red', alpha=.5, label='female')\n",
    "#adds legends based on specifies labels\n",
    "plt.legend()\n",
    "plt.ylabel('numer of students')\n",
    "plt.xlabel('maths scores')\n",
    "plt.title('Scores in Maths - gender based')\n",
    "\n",
    "plt.subplot(1, 3, 2)\n",
    "plt.hist(df_gender_male['reading_score'], color='blue', alpha=.5, label='male')\n",
    "plt.hist(df_gender_female['reading_score'], color='red', alpha=.5, label='female')\n",
    "plt.legend()\n",
    "plt.ylabel('numer of students')\n",
    "plt.xlabel('reading scores')\n",
    "plt.title('Scores in Readinng - gender based')\n",
    "\n",
    "plt.subplot(1, 3, 3)\n",
    "plt.hist(df_gender_male['writing_score'], color='blue', alpha=.5, label='male')\n",
    "plt.hist(df_gender_female['writing_score'], color='red', alpha=.5, label='female')\n",
    "plt.legend()\n",
    "plt.ylabel('numer of students')\n",
    "plt.xlabel('writting scores')\n",
    "plt.title('Scores in Writing - gender based')\n",
    "          \n",
    "plt.show()\n"
   ]
  },
  {
   "cell_type": "markdown",
   "metadata": {},
   "source": [
    "##### According to the plots above, majority of the student scores in both genders fall within the interquatile range. Meanwhile the male students performed a little bit better than their female counterparts in maths. On the contrary, the female students scored higher in writing and reading than the male student."
   ]
  }
 ],
 "metadata": {
  "kernelspec": {
   "display_name": "Python 3",
   "language": "python",
   "name": "python3"
  },
  "language_info": {
   "codemirror_mode": {
    "name": "ipython",
    "version": 3
   },
   "file_extension": ".py",
   "mimetype": "text/x-python",
   "name": "python",
   "nbconvert_exporter": "python",
   "pygments_lexer": "ipython3",
   "version": "3.6.2"
  }
 },
 "nbformat": 4,
 "nbformat_minor": 2
}
