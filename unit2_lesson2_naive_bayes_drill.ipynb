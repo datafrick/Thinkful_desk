{
 "cells": [
  {
   "cell_type": "markdown",
   "metadata": {},
   "source": [
    "### Unit2_Lesson2_naive_bayes_drill"
   ]
  },
  {
   "cell_type": "markdown",
   "metadata": {},
   "source": [
    "##### Unsing Naive Bayes analyse feedback: categorization of feebacks into positive or negative - Amazon data"
   ]
  },
  {
   "cell_type": "code",
   "execution_count": 45,
   "metadata": {},
   "outputs": [],
   "source": [
    "import pandas as pd\n",
    "import numpy as np\n",
    "import seaborn as sns\n",
    "import matplotlib.pyplot as plt\n",
    "import sklearn\n",
    "import scipy\n",
    "%matplotlib inline"
   ]
  },
  {
   "cell_type": "markdown",
   "metadata": {},
   "source": [
    "##### Import the raw data as a table. This forms the trianing dataset for our model"
   ]
  },
  {
   "cell_type": "code",
   "execution_count": 46,
   "metadata": {},
   "outputs": [],
   "source": [
    "#import raw data (Amazon). This data is in txt consisting of tab seperated lines, each line represents a feedback.\n",
    "#0 or 1 appended to the start of every feedback represent the classification of the previous feedback. 0 means negative while \n",
    "#one means positive.\n",
    "\n",
    "raw_data_amazon = pd.read_table('amazon_cells_labelled_2_2_drill.txt', sep='\\t')"
   ]
  },
  {
   "cell_type": "code",
   "execution_count": 47,
   "metadata": {
    "scrolled": true
   },
   "outputs": [
    {
     "data": {
      "text/html": [
       "<div>\n",
       "<style scoped>\n",
       "    .dataframe tbody tr th:only-of-type {\n",
       "        vertical-align: middle;\n",
       "    }\n",
       "\n",
       "    .dataframe tbody tr th {\n",
       "        vertical-align: top;\n",
       "    }\n",
       "\n",
       "    .dataframe thead th {\n",
       "        text-align: right;\n",
       "    }\n",
       "</style>\n",
       "<table border=\"1\" class=\"dataframe\">\n",
       "  <thead>\n",
       "    <tr style=\"text-align: right;\">\n",
       "      <th></th>\n",
       "      <th>feedback</th>\n",
       "      <th>classification</th>\n",
       "    </tr>\n",
       "  </thead>\n",
       "  <tbody>\n",
       "    <tr>\n",
       "      <th>0</th>\n",
       "      <td>Good case, Excellent value.</td>\n",
       "      <td>1</td>\n",
       "    </tr>\n",
       "    <tr>\n",
       "      <th>1</th>\n",
       "      <td>Great for the jawbone.</td>\n",
       "      <td>1</td>\n",
       "    </tr>\n",
       "    <tr>\n",
       "      <th>2</th>\n",
       "      <td>Tied to charger for conversations lasting more...</td>\n",
       "      <td>0</td>\n",
       "    </tr>\n",
       "    <tr>\n",
       "      <th>3</th>\n",
       "      <td>The mic is great.</td>\n",
       "      <td>1</td>\n",
       "    </tr>\n",
       "    <tr>\n",
       "      <th>4</th>\n",
       "      <td>I have to jiggle the plug to get it to line up...</td>\n",
       "      <td>0</td>\n",
       "    </tr>\n",
       "  </tbody>\n",
       "</table>\n",
       "</div>"
      ],
      "text/plain": [
       "                                            feedback  classification\n",
       "0                        Good case, Excellent value.               1\n",
       "1                             Great for the jawbone.               1\n",
       "2  Tied to charger for conversations lasting more...               0\n",
       "3                                  The mic is great.               1\n",
       "4  I have to jiggle the plug to get it to line up...               0"
      ]
     },
     "execution_count": 47,
     "metadata": {},
     "output_type": "execute_result"
    }
   ],
   "source": [
    "raw_data_amazon.columns = ['feedback', 'classification']\n",
    "raw_data_amazon.head()"
   ]
  },
  {
   "cell_type": "code",
   "execution_count": 48,
   "metadata": {},
   "outputs": [],
   "source": [
    "#prepare the 'feedback' column to aid keyword search. Strip all punctuations using re\n",
    "\n",
    "import re\n",
    "raw_data_amazon['feedback_striped'] = raw_data_amazon.feedback.apply(lambda x: re.sub(r'[^\\w\\\\x]',' ',x))   "
   ]
  },
  {
   "cell_type": "code",
   "execution_count": 49,
   "metadata": {},
   "outputs": [
    {
     "data": {
      "text/html": [
       "<div>\n",
       "<style scoped>\n",
       "    .dataframe tbody tr th:only-of-type {\n",
       "        vertical-align: middle;\n",
       "    }\n",
       "\n",
       "    .dataframe tbody tr th {\n",
       "        vertical-align: top;\n",
       "    }\n",
       "\n",
       "    .dataframe thead th {\n",
       "        text-align: right;\n",
       "    }\n",
       "</style>\n",
       "<table border=\"1\" class=\"dataframe\">\n",
       "  <thead>\n",
       "    <tr style=\"text-align: right;\">\n",
       "      <th></th>\n",
       "      <th>feedback</th>\n",
       "      <th>feedback_striped</th>\n",
       "      <th>classification</th>\n",
       "    </tr>\n",
       "  </thead>\n",
       "  <tbody>\n",
       "    <tr>\n",
       "      <th>0</th>\n",
       "      <td>Good case, Excellent value.</td>\n",
       "      <td>Good case  Excellent value</td>\n",
       "      <td>1</td>\n",
       "    </tr>\n",
       "    <tr>\n",
       "      <th>1</th>\n",
       "      <td>Great for the jawbone.</td>\n",
       "      <td>Great for the jawbone</td>\n",
       "      <td>1</td>\n",
       "    </tr>\n",
       "    <tr>\n",
       "      <th>2</th>\n",
       "      <td>Tied to charger for conversations lasting more...</td>\n",
       "      <td>Tied to charger for conversations lasting more...</td>\n",
       "      <td>0</td>\n",
       "    </tr>\n",
       "    <tr>\n",
       "      <th>3</th>\n",
       "      <td>The mic is great.</td>\n",
       "      <td>The mic is great</td>\n",
       "      <td>1</td>\n",
       "    </tr>\n",
       "    <tr>\n",
       "      <th>4</th>\n",
       "      <td>I have to jiggle the plug to get it to line up...</td>\n",
       "      <td>I have to jiggle the plug to get it to line up...</td>\n",
       "      <td>0</td>\n",
       "    </tr>\n",
       "  </tbody>\n",
       "</table>\n",
       "</div>"
      ],
      "text/plain": [
       "                                            feedback  \\\n",
       "0                        Good case, Excellent value.   \n",
       "1                             Great for the jawbone.   \n",
       "2  Tied to charger for conversations lasting more...   \n",
       "3                                  The mic is great.   \n",
       "4  I have to jiggle the plug to get it to line up...   \n",
       "\n",
       "                                    feedback_striped  classification  \n",
       "0                        Good case  Excellent value                1  \n",
       "1                             Great for the jawbone                1  \n",
       "2  Tied to charger for conversations lasting more...               0  \n",
       "3                                  The mic is great                1  \n",
       "4  I have to jiggle the plug to get it to line up...               0  "
      ]
     },
     "execution_count": 49,
     "metadata": {},
     "output_type": "execute_result"
    }
   ],
   "source": [
    "#rearrange columns\n",
    "\n",
    "cols = raw_data_amazon.columns.tolist()\n",
    "#print(cols)\n",
    "\n",
    "processed_data_amazon = raw_data_amazon[['feedback', \n",
    "                          'feedback_striped', \n",
    "                          'classification'\n",
    "                          ]]\n",
    "processed_data_amazon.head()"
   ]
  },
  {
   "cell_type": "code",
   "execution_count": 50,
   "metadata": {},
   "outputs": [
    {
     "name": "stderr",
     "output_type": "stream",
     "text": [
      "c:\\users\\user\\appdata\\local\\programs\\python\\python36\\lib\\site-packages\\ipykernel_launcher.py:10: SettingWithCopyWarning: \n",
      "A value is trying to be set on a copy of a slice from a DataFrame.\n",
      "Try using .loc[row_indexer,col_indexer] = value instead\n",
      "\n",
      "See the caveats in the documentation: http://pandas.pydata.org/pandas-docs/stable/indexing.html#indexing-view-versus-copy\n",
      "  # Remove the CWD from sys.path while we load stuff.\n"
     ]
    },
    {
     "data": {
      "text/html": [
       "<div>\n",
       "<style scoped>\n",
       "    .dataframe tbody tr th:only-of-type {\n",
       "        vertical-align: middle;\n",
       "    }\n",
       "\n",
       "    .dataframe tbody tr th {\n",
       "        vertical-align: top;\n",
       "    }\n",
       "\n",
       "    .dataframe thead th {\n",
       "        text-align: right;\n",
       "    }\n",
       "</style>\n",
       "<table border=\"1\" class=\"dataframe\">\n",
       "  <thead>\n",
       "    <tr style=\"text-align: right;\">\n",
       "      <th></th>\n",
       "      <th>feedback</th>\n",
       "      <th>feedback_striped</th>\n",
       "      <th>classification</th>\n",
       "      <th>fantastic</th>\n",
       "      <th>excellent</th>\n",
       "      <th>good</th>\n",
       "      <th>better</th>\n",
       "      <th>best</th>\n",
       "      <th>nice</th>\n",
       "      <th>amazing</th>\n",
       "      <th>awesome</th>\n",
       "      <th>value</th>\n",
       "      <th>great</th>\n",
       "    </tr>\n",
       "  </thead>\n",
       "  <tbody>\n",
       "    <tr>\n",
       "      <th>0</th>\n",
       "      <td>Good case, Excellent value.</td>\n",
       "      <td>Good case  Excellent value</td>\n",
       "      <td>1</td>\n",
       "      <td>False</td>\n",
       "      <td>True</td>\n",
       "      <td>True</td>\n",
       "      <td>False</td>\n",
       "      <td>False</td>\n",
       "      <td>False</td>\n",
       "      <td>False</td>\n",
       "      <td>False</td>\n",
       "      <td>True</td>\n",
       "      <td>False</td>\n",
       "    </tr>\n",
       "    <tr>\n",
       "      <th>1</th>\n",
       "      <td>Great for the jawbone.</td>\n",
       "      <td>Great for the jawbone</td>\n",
       "      <td>1</td>\n",
       "      <td>False</td>\n",
       "      <td>False</td>\n",
       "      <td>False</td>\n",
       "      <td>False</td>\n",
       "      <td>False</td>\n",
       "      <td>False</td>\n",
       "      <td>False</td>\n",
       "      <td>False</td>\n",
       "      <td>False</td>\n",
       "      <td>True</td>\n",
       "    </tr>\n",
       "    <tr>\n",
       "      <th>2</th>\n",
       "      <td>Tied to charger for conversations lasting more...</td>\n",
       "      <td>Tied to charger for conversations lasting more...</td>\n",
       "      <td>0</td>\n",
       "      <td>False</td>\n",
       "      <td>False</td>\n",
       "      <td>False</td>\n",
       "      <td>False</td>\n",
       "      <td>False</td>\n",
       "      <td>False</td>\n",
       "      <td>False</td>\n",
       "      <td>False</td>\n",
       "      <td>False</td>\n",
       "      <td>False</td>\n",
       "    </tr>\n",
       "    <tr>\n",
       "      <th>3</th>\n",
       "      <td>The mic is great.</td>\n",
       "      <td>The mic is great</td>\n",
       "      <td>1</td>\n",
       "      <td>False</td>\n",
       "      <td>False</td>\n",
       "      <td>False</td>\n",
       "      <td>False</td>\n",
       "      <td>False</td>\n",
       "      <td>False</td>\n",
       "      <td>False</td>\n",
       "      <td>False</td>\n",
       "      <td>False</td>\n",
       "      <td>True</td>\n",
       "    </tr>\n",
       "    <tr>\n",
       "      <th>4</th>\n",
       "      <td>I have to jiggle the plug to get it to line up...</td>\n",
       "      <td>I have to jiggle the plug to get it to line up...</td>\n",
       "      <td>0</td>\n",
       "      <td>False</td>\n",
       "      <td>False</td>\n",
       "      <td>False</td>\n",
       "      <td>False</td>\n",
       "      <td>False</td>\n",
       "      <td>False</td>\n",
       "      <td>False</td>\n",
       "      <td>False</td>\n",
       "      <td>False</td>\n",
       "      <td>False</td>\n",
       "    </tr>\n",
       "  </tbody>\n",
       "</table>\n",
       "</div>"
      ],
      "text/plain": [
       "                                            feedback  \\\n",
       "0                        Good case, Excellent value.   \n",
       "1                             Great for the jawbone.   \n",
       "2  Tied to charger for conversations lasting more...   \n",
       "3                                  The mic is great.   \n",
       "4  I have to jiggle the plug to get it to line up...   \n",
       "\n",
       "                                    feedback_striped  classification  \\\n",
       "0                        Good case  Excellent value                1   \n",
       "1                             Great for the jawbone                1   \n",
       "2  Tied to charger for conversations lasting more...               0   \n",
       "3                                  The mic is great                1   \n",
       "4  I have to jiggle the plug to get it to line up...               0   \n",
       "\n",
       "   fantastic  excellent   good  better   best   nice  amazing  awesome  value  \\\n",
       "0      False       True   True   False  False  False    False    False   True   \n",
       "1      False      False  False   False  False  False    False    False  False   \n",
       "2      False      False  False   False  False  False    False    False  False   \n",
       "3      False      False  False   False  False  False    False    False  False   \n",
       "4      False      False  False   False  False  False    False    False  False   \n",
       "\n",
       "   great  \n",
       "0  False  \n",
       "1   True  \n",
       "2  False  \n",
       "3   True  \n",
       "4  False  "
      ]
     },
     "execution_count": 50,
     "metadata": {},
     "output_type": "execute_result"
    }
   ],
   "source": [
    "#create keywords and phrases that closesly surgest a positive feedback and create features with them\n",
    "\n",
    "keywords_positive = ['fantastic', 'excellent', 'good', 'better', 'best', 'nice', 'amazing', 'awesome', 'value', 'great']\n",
    "\n",
    "for key in keywords_positive:\n",
    "    # Note that we add spaces around the key so that we're getting the word,\n",
    "    # not just pattern matching.\n",
    "    processed_data_amazon[str(key)] = processed_data_amazon.feedback.str.contains(\n",
    "        str(key),\n",
    "        case=False\n",
    "    )\n",
    "    \n",
    "processed_data_amazon.head()"
   ]
  },
  {
   "cell_type": "code",
   "execution_count": 51,
   "metadata": {},
   "outputs": [
    {
     "data": {
      "text/plain": [
       "<matplotlib.axes._subplots.AxesSubplot at 0x1df1031b588>"
      ]
     },
     "execution_count": 51,
     "metadata": {},
     "output_type": "execute_result"
    },
    {
     "data": {
      "image/png": "[encoded data removed]",
      "text/plain": [
       "<Figure size 432x288 with 2 Axes>"
      ]
     },
     "metadata": {
      "needs_background": "light"
     },
     "output_type": "display_data"
    }
   ],
   "source": [
    "sns.heatmap(processed_data_amazon.corr())\n",
    "\n",
    "#no significant correllation as per below heatmap"
   ]
  },
  {
   "cell_type": "code",
   "execution_count": 52,
   "metadata": {},
   "outputs": [],
   "source": [
    "data = processed_data_amazon[keywords_positive]\n",
    "target = processed_data_amazon['classification']"
   ]
  },
  {
   "cell_type": "code",
   "execution_count": 53,
   "metadata": {},
   "outputs": [
    {
     "data": {
      "text/plain": [
       "BernoulliNB(alpha=1.0, binarize=0.0, class_prior=None, fit_prior=True)"
      ]
     },
     "execution_count": 53,
     "metadata": {},
     "output_type": "execute_result"
    }
   ],
   "source": [
    "# Our data is binary / boolean (spam or ham), so we're importing the Bernoulli classifier.\n",
    "from sklearn.naive_bayes import BernoulliNB\n",
    "\n",
    "bnb = BernoulliNB()\n",
    "bnb.fit(data, target)"
   ]
  },
  {
   "cell_type": "code",
   "execution_count": 54,
   "metadata": {},
   "outputs": [
    {
     "name": "stdout",
     "output_type": "stream",
     "text": [
      "Number of mislabeled points out of a total 999 points : 309\n"
     ]
    }
   ],
   "source": [
    "#predict outcome\n",
    "y_pred = bnb.predict(data)\n",
    "#print(y_pred)\n",
    "\n",
    "#print out accuracy\n",
    "print(\"Number of mislabeled points out of a total {} points : {}\".format(\n",
    "    data.shape[0],\n",
    "    (target != y_pred).sum()\n",
    "    \n",
    "))"
   ]
  },
  {
   "cell_type": "markdown",
   "metadata": {},
   "source": [
    "   "
   ]
  },
  {
   "cell_type": "markdown",
   "metadata": {},
   "source": [
    "### Testing our classifier with another with another data (yelp feedback data)"
   ]
  },
  {
   "cell_type": "code",
   "execution_count": 55,
   "metadata": {},
   "outputs": [
    {
     "data": {
      "text/html": [
       "<div>\n",
       "<style scoped>\n",
       "    .dataframe tbody tr th:only-of-type {\n",
       "        vertical-align: middle;\n",
       "    }\n",
       "\n",
       "    .dataframe tbody tr th {\n",
       "        vertical-align: top;\n",
       "    }\n",
       "\n",
       "    .dataframe thead th {\n",
       "        text-align: right;\n",
       "    }\n",
       "</style>\n",
       "<table border=\"1\" class=\"dataframe\">\n",
       "  <thead>\n",
       "    <tr style=\"text-align: right;\">\n",
       "      <th></th>\n",
       "      <th>feedback</th>\n",
       "      <th>classification</th>\n",
       "    </tr>\n",
       "  </thead>\n",
       "  <tbody>\n",
       "    <tr>\n",
       "      <th>0</th>\n",
       "      <td>Crust is not good.</td>\n",
       "      <td>0</td>\n",
       "    </tr>\n",
       "    <tr>\n",
       "      <th>1</th>\n",
       "      <td>Not tasty and the texture was just nasty.</td>\n",
       "      <td>0</td>\n",
       "    </tr>\n",
       "    <tr>\n",
       "      <th>2</th>\n",
       "      <td>Stopped by during the late May bank holiday of...</td>\n",
       "      <td>1</td>\n",
       "    </tr>\n",
       "    <tr>\n",
       "      <th>3</th>\n",
       "      <td>The selection on the menu was great and so wer...</td>\n",
       "      <td>1</td>\n",
       "    </tr>\n",
       "    <tr>\n",
       "      <th>4</th>\n",
       "      <td>Now I am getting angry and I want my damn pho.</td>\n",
       "      <td>0</td>\n",
       "    </tr>\n",
       "  </tbody>\n",
       "</table>\n",
       "</div>"
      ],
      "text/plain": [
       "                                            feedback  classification\n",
       "0                                 Crust is not good.               0\n",
       "1          Not tasty and the texture was just nasty.               0\n",
       "2  Stopped by during the late May bank holiday of...               1\n",
       "3  The selection on the menu was great and so wer...               1\n",
       "4     Now I am getting angry and I want my damn pho.               0"
      ]
     },
     "execution_count": 55,
     "metadata": {},
     "output_type": "execute_result"
    }
   ],
   "source": [
    "raw_data_yelp = pd.read_table('yelp_labelled_2_2_drill.txt', sep='\\t')\n",
    "raw_data_yelp.columns = ['feedback', 'classification']\n",
    "raw_data_yelp.head()"
   ]
  },
  {
   "cell_type": "code",
   "execution_count": 56,
   "metadata": {},
   "outputs": [
    {
     "data": {
      "text/html": [
       "<div>\n",
       "<style scoped>\n",
       "    .dataframe tbody tr th:only-of-type {\n",
       "        vertical-align: middle;\n",
       "    }\n",
       "\n",
       "    .dataframe tbody tr th {\n",
       "        vertical-align: top;\n",
       "    }\n",
       "\n",
       "    .dataframe thead th {\n",
       "        text-align: right;\n",
       "    }\n",
       "</style>\n",
       "<table border=\"1\" class=\"dataframe\">\n",
       "  <thead>\n",
       "    <tr style=\"text-align: right;\">\n",
       "      <th></th>\n",
       "      <th>feedback</th>\n",
       "      <th>feedback_striped</th>\n",
       "      <th>classification</th>\n",
       "    </tr>\n",
       "  </thead>\n",
       "  <tbody>\n",
       "    <tr>\n",
       "      <th>0</th>\n",
       "      <td>Crust is not good.</td>\n",
       "      <td>Crust is not good</td>\n",
       "      <td>0</td>\n",
       "    </tr>\n",
       "    <tr>\n",
       "      <th>1</th>\n",
       "      <td>Not tasty and the texture was just nasty.</td>\n",
       "      <td>Not tasty and the texture was just nasty</td>\n",
       "      <td>0</td>\n",
       "    </tr>\n",
       "    <tr>\n",
       "      <th>2</th>\n",
       "      <td>Stopped by during the late May bank holiday of...</td>\n",
       "      <td>Stopped by during the late May bank holiday of...</td>\n",
       "      <td>1</td>\n",
       "    </tr>\n",
       "    <tr>\n",
       "      <th>3</th>\n",
       "      <td>The selection on the menu was great and so wer...</td>\n",
       "      <td>The selection on the menu was great and so wer...</td>\n",
       "      <td>1</td>\n",
       "    </tr>\n",
       "    <tr>\n",
       "      <th>4</th>\n",
       "      <td>Now I am getting angry and I want my damn pho.</td>\n",
       "      <td>Now I am getting angry and I want my damn pho</td>\n",
       "      <td>0</td>\n",
       "    </tr>\n",
       "  </tbody>\n",
       "</table>\n",
       "</div>"
      ],
      "text/plain": [
       "                                            feedback  \\\n",
       "0                                 Crust is not good.   \n",
       "1          Not tasty and the texture was just nasty.   \n",
       "2  Stopped by during the late May bank holiday of...   \n",
       "3  The selection on the menu was great and so wer...   \n",
       "4     Now I am getting angry and I want my damn pho.   \n",
       "\n",
       "                                    feedback_striped  classification  \n",
       "0                                 Crust is not good                0  \n",
       "1          Not tasty and the texture was just nasty                0  \n",
       "2  Stopped by during the late May bank holiday of...               1  \n",
       "3  The selection on the menu was great and so wer...               1  \n",
       "4     Now I am getting angry and I want my damn pho                0  "
      ]
     },
     "execution_count": 56,
     "metadata": {},
     "output_type": "execute_result"
    }
   ],
   "source": [
    "#strip punctuation from data\n",
    "raw_data_yelp['feedback_striped'] = raw_data_yelp.feedback.apply(lambda x: re.sub(r'[^\\w\\\\x]',' ',x)) \n",
    "\n",
    "#rearrange the columns and rename dataframe\n",
    "processed_data_yelp = raw_data_yelp[['feedback', \n",
    "                          'feedback_striped', \n",
    "                          'classification'\n",
    "                          ]]\n",
    "\n",
    "processed_data_yelp.head()"
   ]
  },
  {
   "cell_type": "code",
   "execution_count": 57,
   "metadata": {},
   "outputs": [
    {
     "data": {
      "text/plain": [
       "BernoulliNB(alpha=1.0, binarize=0.0, class_prior=None, fit_prior=True)"
      ]
     },
     "execution_count": 57,
     "metadata": {},
     "output_type": "execute_result"
    }
   ],
   "source": [
    "#use new data(yelp) to run classifier.\n",
    "#Target will change to the new data\n",
    "target1 = processed_data_yelp['classification']\n",
    "\n",
    "#fit the new target into the model - note that data is not changing\n",
    "bnb.fit(data, target1)"
   ]
  },
  {
   "cell_type": "code",
   "execution_count": 58,
   "metadata": {},
   "outputs": [
    {
     "name": "stdout",
     "output_type": "stream",
     "text": [
      "Number of mislabeled points out of a total 999 points : 475\n"
     ]
    }
   ],
   "source": [
    "#predict outcome\n",
    "y_pred1 = bnb.predict(data)\n",
    "#print(y_pred)\n",
    "\n",
    "#print out accuracy\n",
    "print(\"Number of mislabeled points out of a total {} points : {}\".format(\n",
    "    data.shape[0],\n",
    "    (target1 != y_pred1).sum()\n",
    "    \n",
    "))"
   ]
  },
  {
   "cell_type": "markdown",
   "metadata": {},
   "source": [
    "##### As can be seen from the result, this model's performance was reduced with a new set of data\n",
    "With the original data with which the model was built, it only got 309 prediction wrong <br>\n",
    "Meanwhile it got a whopping 475 predictions wrong with the new data <br>\n",
    "I thinks it will be beneficial to always build a new model for every set of data for this classifier <br>"
   ]
  },
  {
   "cell_type": "markdown",
   "metadata": {},
   "source": [
    "   "
   ]
  },
  {
   "cell_type": "markdown",
   "metadata": {},
   "source": [
    "### Iterating and improving the classifier"
   ]
  },
  {
   "cell_type": "markdown",
   "metadata": {},
   "source": [
    "##### Confusion matrix"
   ]
  },
  {
   "cell_type": "code",
   "execution_count": 59,
   "metadata": {},
   "outputs": [
    {
     "data": {
      "text/plain": [
       "array([[476,  23],\n",
       "       [286, 214]], dtype=int64)"
      ]
     },
     "execution_count": 59,
     "metadata": {},
     "output_type": "execute_result"
    }
   ],
   "source": [
    "#first generate a confusion matrix to see what the model is missing out\n",
    "\n",
    "from sklearn.metrics import confusion_matrix\n",
    "confusion_matrix(target, y_pred)"
   ]
  },
  {
   "cell_type": "markdown",
   "metadata": {},
   "source": [
    "what does the matrix mean? **476 positives** were interpreted as **positives**, **214** **negatives** interpreted as **negatives**. On the flip side **286 positives** were seen as negative (this is a miss or type 1 error), **23 negatives** were seen as positive (false alarm). "
   ]
  },
  {
   "cell_type": "code",
   "execution_count": 60,
   "metadata": {},
   "outputs": [
    {
     "name": "stdout",
     "output_type": "stream",
     "text": [
      "Accuracy is equal 69.06906906906907\n"
     ]
    }
   ],
   "source": [
    "#let's calculat accuracy and sensitivity of our model from the confusion matrix values. Note that the rigth diagonal elements\n",
    "# are the accurate predictions (476 and 214). The left diagonal elements are inaccurate containing type I and II errors\n",
    "\n",
    "print ('Accuracy is equal {}'.format((476 + 214)*100/(476 + 214 + 23 + 286)))"
   ]
  },
  {
   "cell_type": "code",
   "execution_count": 61,
   "metadata": {},
   "outputs": [
    {
     "name": "stdout",
     "output_type": "stream",
     "text": [
      "sensitivity is equal 62.46719160104987\n"
     ]
    }
   ],
   "source": [
    "#what about sensitivity i.e the percentage of positives(spam) correctly identified\n",
    "print ('sensitivity is equal {}'.format(476*100/(476+286)))"
   ]
  },
  {
   "cell_type": "code",
   "execution_count": 62,
   "metadata": {},
   "outputs": [
    {
     "name": "stdout",
     "output_type": "stream",
     "text": [
      "specivisity is equal 90.29535864978902\n"
     ]
    }
   ],
   "source": [
    "#Specificity is just the opposite, the percentage of negatives correctly identified\n",
    "print ('specivisity is equal {}'.format(214*100/(214+23)))"
   ]
  },
  {
   "cell_type": "markdown",
   "metadata": {},
   "source": [
    "### So we really need to work on identifying positive feedbacks(sensitivity) - i.e we need to iterate."
   ]
  },
  {
   "cell_type": "markdown",
   "metadata": {},
   "source": [
    "##### Baseline Performance\n",
    "This is about how to create a threshold for our model's accuracy. In our case the probabilty that a useless model would correctly precdict a positive feedback is (positive/total) = 76 percent. This is better even than our model with 62 accuracy. On not reason should our model no perform better that a regular guess at the dominant class."
   ]
  },
  {
   "cell_type": "markdown",
   "metadata": {},
   "source": [
    "##### Class inbalance\n",
    "In this model we have way more positive feedback than negative which creates class inbalance and can skew the model towards always predicting a positive feedback.To resolve this problem in real life we could decide to over sample the negative feeback or create synthetic negative feedback samples or under sample the positive to create a balance in the training and test data. We can also try to engineer a stronger feature to identify the minority class. Lastly we can ignore it, which is applicable here as we have the preffered class as majority. "
   ]
  },
  {
   "cell_type": "markdown",
   "metadata": {},
   "source": [
    "### Iterating our model for better preformance"
   ]
  },
  {
   "cell_type": "markdown",
   "metadata": {},
   "source": [
    "##### 1. Optimizing features\n",
    "Here we will add more positive keywords to better identify positive feedbacks. But first we will check how the existing features are performing and possibly remove any redundant one."
   ]
  },
  {
   "cell_type": "code",
   "execution_count": 63,
   "metadata": {},
   "outputs": [
    {
     "name": "stdout",
     "output_type": "stream",
     "text": [
      "fantastic = 3\n",
      "excellent = 27\n",
      "good = 75\n",
      "better = 18\n",
      "best = 22\n",
      "nice = 24\n",
      "amazing = 1\n",
      "awesome = 5\n",
      "value = 5\n",
      "great = 98\n"
     ]
    }
   ],
   "source": [
    "#measuring features' performances\n",
    "\n",
    "for element in keywords_positive:\n",
    "    print(element, '=', sum(processed_data_amazon[element] == True))"
   ]
  },
  {
   "cell_type": "markdown",
   "metadata": {},
   "source": [
    "Here we can see that **amazing**, **fantastic**, **awesome** and **value** are not doing great. But we will still keep them since non of them returned 0. Let's try to add 'best', 'quality', 'highly' and 'very'. The most impactful variables are: 'great', 'good' and 'excellent'"
   ]
  },
  {
   "cell_type": "code",
   "execution_count": 64,
   "metadata": {},
   "outputs": [
    {
     "name": "stderr",
     "output_type": "stream",
     "text": [
      "c:\\users\\user\\appdata\\local\\programs\\python\\python36\\lib\\site-packages\\ipykernel_launcher.py:10: SettingWithCopyWarning: \n",
      "A value is trying to be set on a copy of a slice from a DataFrame.\n",
      "Try using .loc[row_indexer,col_indexer] = value instead\n",
      "\n",
      "See the caveats in the documentation: http://pandas.pydata.org/pandas-docs/stable/indexing.html#indexing-view-versus-copy\n",
      "  # Remove the CWD from sys.path while we load stuff.\n"
     ]
    },
    {
     "data": {
      "text/html": [
       "<div>\n",
       "<style scoped>\n",
       "    .dataframe tbody tr th:only-of-type {\n",
       "        vertical-align: middle;\n",
       "    }\n",
       "\n",
       "    .dataframe tbody tr th {\n",
       "        vertical-align: top;\n",
       "    }\n",
       "\n",
       "    .dataframe thead th {\n",
       "        text-align: right;\n",
       "    }\n",
       "</style>\n",
       "<table border=\"1\" class=\"dataframe\">\n",
       "  <thead>\n",
       "    <tr style=\"text-align: right;\">\n",
       "      <th></th>\n",
       "      <th>feedback</th>\n",
       "      <th>feedback_striped</th>\n",
       "      <th>classification</th>\n",
       "      <th>fantastic</th>\n",
       "      <th>excellent</th>\n",
       "      <th>good</th>\n",
       "      <th>better</th>\n",
       "      <th>best</th>\n",
       "      <th>nice</th>\n",
       "      <th>amazing</th>\n",
       "      <th>awesome</th>\n",
       "      <th>value</th>\n",
       "      <th>great</th>\n",
       "      <th>quality</th>\n",
       "      <th>highly</th>\n",
       "      <th>very</th>\n",
       "    </tr>\n",
       "  </thead>\n",
       "  <tbody>\n",
       "    <tr>\n",
       "      <th>0</th>\n",
       "      <td>Good case, Excellent value.</td>\n",
       "      <td>Good case  Excellent value</td>\n",
       "      <td>1</td>\n",
       "      <td>False</td>\n",
       "      <td>True</td>\n",
       "      <td>True</td>\n",
       "      <td>False</td>\n",
       "      <td>False</td>\n",
       "      <td>False</td>\n",
       "      <td>False</td>\n",
       "      <td>False</td>\n",
       "      <td>True</td>\n",
       "      <td>False</td>\n",
       "      <td>False</td>\n",
       "      <td>False</td>\n",
       "      <td>False</td>\n",
       "    </tr>\n",
       "    <tr>\n",
       "      <th>1</th>\n",
       "      <td>Great for the jawbone.</td>\n",
       "      <td>Great for the jawbone</td>\n",
       "      <td>1</td>\n",
       "      <td>False</td>\n",
       "      <td>False</td>\n",
       "      <td>False</td>\n",
       "      <td>False</td>\n",
       "      <td>False</td>\n",
       "      <td>False</td>\n",
       "      <td>False</td>\n",
       "      <td>False</td>\n",
       "      <td>False</td>\n",
       "      <td>True</td>\n",
       "      <td>False</td>\n",
       "      <td>False</td>\n",
       "      <td>False</td>\n",
       "    </tr>\n",
       "    <tr>\n",
       "      <th>2</th>\n",
       "      <td>Tied to charger for conversations lasting more...</td>\n",
       "      <td>Tied to charger for conversations lasting more...</td>\n",
       "      <td>0</td>\n",
       "      <td>False</td>\n",
       "      <td>False</td>\n",
       "      <td>False</td>\n",
       "      <td>False</td>\n",
       "      <td>False</td>\n",
       "      <td>False</td>\n",
       "      <td>False</td>\n",
       "      <td>False</td>\n",
       "      <td>False</td>\n",
       "      <td>False</td>\n",
       "      <td>False</td>\n",
       "      <td>False</td>\n",
       "      <td>False</td>\n",
       "    </tr>\n",
       "    <tr>\n",
       "      <th>3</th>\n",
       "      <td>The mic is great.</td>\n",
       "      <td>The mic is great</td>\n",
       "      <td>1</td>\n",
       "      <td>False</td>\n",
       "      <td>False</td>\n",
       "      <td>False</td>\n",
       "      <td>False</td>\n",
       "      <td>False</td>\n",
       "      <td>False</td>\n",
       "      <td>False</td>\n",
       "      <td>False</td>\n",
       "      <td>False</td>\n",
       "      <td>True</td>\n",
       "      <td>False</td>\n",
       "      <td>False</td>\n",
       "      <td>False</td>\n",
       "    </tr>\n",
       "    <tr>\n",
       "      <th>4</th>\n",
       "      <td>I have to jiggle the plug to get it to line up...</td>\n",
       "      <td>I have to jiggle the plug to get it to line up...</td>\n",
       "      <td>0</td>\n",
       "      <td>False</td>\n",
       "      <td>False</td>\n",
       "      <td>False</td>\n",
       "      <td>False</td>\n",
       "      <td>False</td>\n",
       "      <td>False</td>\n",
       "      <td>False</td>\n",
       "      <td>False</td>\n",
       "      <td>False</td>\n",
       "      <td>False</td>\n",
       "      <td>False</td>\n",
       "      <td>False</td>\n",
       "      <td>False</td>\n",
       "    </tr>\n",
       "  </tbody>\n",
       "</table>\n",
       "</div>"
      ],
      "text/plain": [
       "                                            feedback  \\\n",
       "0                        Good case, Excellent value.   \n",
       "1                             Great for the jawbone.   \n",
       "2  Tied to charger for conversations lasting more...   \n",
       "3                                  The mic is great.   \n",
       "4  I have to jiggle the plug to get it to line up...   \n",
       "\n",
       "                                    feedback_striped  classification  \\\n",
       "0                        Good case  Excellent value                1   \n",
       "1                             Great for the jawbone                1   \n",
       "2  Tied to charger for conversations lasting more...               0   \n",
       "3                                  The mic is great                1   \n",
       "4  I have to jiggle the plug to get it to line up...               0   \n",
       "\n",
       "   fantastic  excellent   good  better   best   nice  amazing  awesome  value  \\\n",
       "0      False       True   True   False  False  False    False    False   True   \n",
       "1      False      False  False   False  False  False    False    False  False   \n",
       "2      False      False  False   False  False  False    False    False  False   \n",
       "3      False      False  False   False  False  False    False    False  False   \n",
       "4      False      False  False   False  False  False    False    False  False   \n",
       "\n",
       "   great  quality  highly   very  \n",
       "0  False    False   False  False  \n",
       "1   True    False   False  False  \n",
       "2  False    False   False  False  \n",
       "3   True    False   False  False  \n",
       "4  False    False   False  False  "
      ]
     },
     "execution_count": 64,
     "metadata": {},
     "output_type": "execute_result"
    }
   ],
   "source": [
    "#create keywords and phrases that closesly surgest a positive feedback and create features with them\n",
    "\n",
    "keywords_positive = ['fantastic', 'excellent', 'good', 'better', 'best', 'nice', 'amazing', 'awesome', 'value', 'great', 'best', 'quality', 'highly', 'very']\n",
    "\n",
    "for key in keywords_positive:\n",
    "    # Note that we add spaces around the key so that we're getting the word,\n",
    "    # not just pattern matching.\n",
    "    processed_data_amazon[str(key)] = processed_data_amazon.feedback.str.contains(\n",
    "        str(key),\n",
    "        case=False\n",
    "    )\n",
    "    \n",
    "processed_data_amazon.head()"
   ]
  },
  {
   "cell_type": "code",
   "execution_count": 65,
   "metadata": {},
   "outputs": [
    {
     "data": {
      "text/plain": [
       "<matplotlib.axes._subplots.AxesSubplot at 0x1df10735f98>"
      ]
     },
     "execution_count": 65,
     "metadata": {},
     "output_type": "execute_result"
    },
    {
     "data": {
      "image/png": "[encoded data removed]",
      "text/plain": [
       "<Figure size 432x288 with 2 Axes>"
      ]
     },
     "metadata": {
      "needs_background": "light"
     },
     "output_type": "display_data"
    }
   ],
   "source": [
    "#let's see what the correllation map looks like\n",
    "sns.heatmap(processed_data_amazon.corr())"
   ]
  },
  {
   "cell_type": "code",
   "execution_count": 66,
   "metadata": {},
   "outputs": [
    {
     "name": "stdout",
     "output_type": "stream",
     "text": [
      "WIth new variable added to features:0.7157157157157157\n",
      "Number of mislabeled points out of a total 999 points : 284\n"
     ]
    },
    {
     "data": {
      "text/plain": [
       "array([[438,  61],\n",
       "       [223, 277]], dtype=int64)"
      ]
     },
     "execution_count": 66,
     "metadata": {},
     "output_type": "execute_result"
    }
   ],
   "source": [
    "#use the new set of features to run classifier.\n",
    "#Target will change to the new data\n",
    "target = processed_data_amazon['classification']\n",
    "data = processed_data_amazon[keywords_positive] #new keyword list\n",
    "\n",
    "\n",
    "print('WIth new variable added to features:' + str(bnb.fit(data, target).score(data, target)))\n",
    "\n",
    "y_pred = bnb.predict(data)\n",
    "\n",
    "print(\"Number of mislabeled points out of a total {} points : {}\".format(\n",
    "    data.shape[0],\n",
    "    (target != y_pred).sum()))\n",
    "\n",
    "confusion_matrix(target, y_pred)"
   ]
  },
  {
   "cell_type": "markdown",
   "metadata": {},
   "source": [
    "By adding new keywords to our features, we have been able to improve **accuracy** from **69%** to **72%**.But we went poorer in identifying positive feedbacks from **476** to **438**"
   ]
  },
  {
   "cell_type": "markdown",
   "metadata": {},
   "source": [
    "##### 2. With 30% Holdout\n",
    "Let's try holdout with 30 percent"
   ]
  },
  {
   "cell_type": "code",
   "execution_count": 67,
   "metadata": {},
   "outputs": [
    {
     "name": "stdout",
     "output_type": "stream",
     "text": [
      "WIth 20% Holdout:0.725\n",
      "WIth no Holdout as before:0.7157157157157157\n"
     ]
    }
   ],
   "source": [
    "#test the spam model with different holdout groups.\n",
    "\n",
    "from sklearn.model_selection import train_test_split\n",
    "\n",
    "#use train_test_split to create necessary training and test groups. Below splits the feature data(x) and \n",
    "#target(y) into 80 by 20%\n",
    "\n",
    "X_train, X_test, y_train, y_test = train_test_split(data, target, test_size = 0.2, random_state=20)\n",
    "\n",
    "#train model with 80% of data and test it with 20% \n",
    "print('WIth 20% Holdout:' + str(bnb.fit(X_train, y_train).score(X_test, y_test)))\n",
    "\n",
    "#train model with 100% of data and test it with the same 100% data, just as in the previous lesson 2\n",
    "print('WIth no Holdout as before:' + str(bnb.fit(data, target).score(data, target)))"
   ]
  },
  {
   "cell_type": "markdown",
   "metadata": {},
   "source": [
    "The hold is not making much impact, shows our model might not be over fitting, let's try 50% hold out to further confirm this."
   ]
  },
  {
   "cell_type": "markdown",
   "metadata": {},
   "source": [
    "##### 3. WIth 50% Holdout\n",
    "with 50% holdout"
   ]
  },
  {
   "cell_type": "code",
   "execution_count": 68,
   "metadata": {},
   "outputs": [
    {
     "name": "stdout",
     "output_type": "stream",
     "text": [
      "WIth 20% Holdout:0.71\n",
      "WIth no Holdout as before:0.7157157157157157\n"
     ]
    }
   ],
   "source": [
    "#test the spam model with different holdout groups.\n",
    "\n",
    "from sklearn.model_selection import train_test_split\n",
    "\n",
    "#use train_test_split to create necessary training and test groups. Below splits the feature data(x) and \n",
    "#target(y) into 80 by 20%\n",
    "\n",
    "X_train, X_test, y_train, y_test = train_test_split(data, target, test_size = 0.5, random_state=20)\n",
    "\n",
    "#train model with 80% of data and test it with 20% \n",
    "print('WIth 20% Holdout:' + str(bnb.fit(X_train, y_train).score(X_test, y_test)))\n",
    "\n",
    "#train model with 100% of data and test it with the same 100% data, just as in the previous lesson 2\n",
    "print('WIth no Holdout as before:' + str(bnb.fit(data, target).score(data, target)))"
   ]
  },
  {
   "cell_type": "markdown",
   "metadata": {},
   "source": [
    "##### 4. Using cross validation - 10 steps"
   ]
  },
  {
   "cell_type": "code",
   "execution_count": 69,
   "metadata": {},
   "outputs": [
    {
     "data": {
      "text/plain": [
       "array([0.78      , 0.7       , 0.8       , 0.71      , 0.77      ,\n",
       "       0.71      , 0.65      , 0.71      , 0.7       , 0.58585859])"
      ]
     },
     "execution_count": 69,
     "metadata": {},
     "output_type": "execute_result"
    }
   ],
   "source": [
    "#implementing cross validation with our spam model\n",
    "from sklearn.model_selection import cross_val_score\n",
    "cross_val_score(bnb, data, target, cv=10)"
   ]
  },
  {
   "cell_type": "markdown",
   "metadata": {},
   "source": [
    "The **0.65** and **0.58** values suggest a level of overfitting due to their difference from the other groups. Lastly we will try the **100 group** cross validation"
   ]
  },
  {
   "cell_type": "markdown",
   "metadata": {},
   "source": [
    "##### 5. Using cross validation - 100 groups\n",
    "I have code up a function for this test (the code is also capable of doing Leave one out cross validation), I will apply the function here rather than sklearn method"
   ]
  },
  {
   "cell_type": "code",
   "execution_count": 70,
   "metadata": {},
   "outputs": [
    {
     "name": "stdout",
     "output_type": "stream",
     "text": [
      "With Holdout 0:0.7\n",
      "With Holdout 1:0.6\n",
      "With Holdout 2:0.6\n",
      "With Holdout 3:0.6\n",
      "With Holdout 4:0.3\n",
      "With Holdout 5:0.5\n",
      "With Holdout 6:0.5\n",
      "With Holdout 7:0.5\n",
      "With Holdout 8:0.4\n",
      "With Holdout 9:0.7\n",
      "With Holdout 10:0.1\n",
      "With Holdout 11:0.5\n",
      "With Holdout 12:0.6\n",
      "With Holdout 13:0.1\n",
      "With Holdout 14:0.3\n",
      "With Holdout 15:0.5\n",
      "With Holdout 16:0.9\n",
      "With Holdout 17:0.8\n",
      "With Holdout 18:0.5\n",
      "With Holdout 19:0.7\n",
      "With Holdout 20:0.5\n",
      "With Holdout 21:0.3\n",
      "With Holdout 22:0.4\n",
      "With Holdout 23:0.4\n",
      "With Holdout 24:0.4\n",
      "With Holdout 25:0.5\n",
      "With Holdout 26:0.6\n",
      "With Holdout 27:0.6\n",
      "With Holdout 28:0.2\n",
      "With Holdout 29:0.3\n",
      "With Holdout 30:0.6\n",
      "With Holdout 31:0.3\n",
      "With Holdout 32:0.5\n",
      "With Holdout 33:0.7\n",
      "With Holdout 34:0.5\n",
      "With Holdout 35:0.4\n",
      "With Holdout 36:0.5\n",
      "With Holdout 37:0.3\n",
      "With Holdout 38:0.6\n",
      "With Holdout 39:0.7\n",
      "With Holdout 40:0.5\n",
      "With Holdout 41:0.4\n",
      "With Holdout 42:0.4\n",
      "With Holdout 43:0.4\n",
      "With Holdout 44:0.5\n",
      "With Holdout 45:0.7\n",
      "With Holdout 46:0.6\n",
      "With Holdout 47:0.7\n",
      "With Holdout 48:0.4\n",
      "With Holdout 49:0.4\n",
      "With Holdout 50:0.3\n",
      "With Holdout 51:0.7\n",
      "With Holdout 52:0.5\n",
      "With Holdout 53:0.8\n",
      "With Holdout 54:0.4\n",
      "With Holdout 55:0.4\n",
      "With Holdout 56:0.5\n",
      "With Holdout 57:0.7\n",
      "With Holdout 58:0.2\n",
      "With Holdout 59:0.4\n",
      "With Holdout 60:0.6\n",
      "With Holdout 61:0.6\n",
      "With Holdout 62:0.4\n",
      "With Holdout 63:0.5\n",
      "With Holdout 64:0.8\n",
      "With Holdout 65:0.3\n",
      "With Holdout 66:0.3\n",
      "With Holdout 67:0.7\n",
      "With Holdout 68:0.5\n",
      "With Holdout 69:0.4\n",
      "With Holdout 70:0.4\n",
      "With Holdout 71:0.3\n",
      "With Holdout 72:0.8\n",
      "With Holdout 73:0.4\n",
      "With Holdout 74:0.5\n",
      "With Holdout 75:0.6\n",
      "With Holdout 76:0.4\n",
      "With Holdout 77:0.2\n",
      "With Holdout 78:0.3\n",
      "With Holdout 79:0.6\n",
      "With Holdout 80:0.7\n",
      "With Holdout 81:0.6\n",
      "With Holdout 82:0.0\n",
      "With Holdout 83:0.9\n",
      "With Holdout 84:0.6\n",
      "With Holdout 85:0.2\n",
      "With Holdout 86:0.7\n",
      "With Holdout 87:0.4\n",
      "With Holdout 88:0.5\n",
      "With Holdout 89:0.5\n",
      "With Holdout 90:0.4\n",
      "With Holdout 91:0.5\n",
      "With Holdout 92:0.6\n",
      "With Holdout 93:0.4\n",
      "With Holdout 94:0.6\n",
      "With Holdout 95:0.5\n",
      "With Holdout 96:0.3\n",
      "With Holdout 97:0.9\n",
      "With Holdout 98:1.0\n"
     ]
    },
    {
     "name": "stderr",
     "output_type": "stream",
     "text": [
      "c:\\users\\user\\appdata\\local\\programs\\python\\python36\\lib\\site-packages\\sklearn\\naive_bayes.py:465: RuntimeWarning: divide by zero encountered in log\n",
      "  self.class_log_prior_ = (np.log(self.class_count_) -\n",
      "c:\\users\\user\\appdata\\local\\programs\\python\\python36\\lib\\site-packages\\sklearn\\naive_bayes.py:465: RuntimeWarning: divide by zero encountered in log\n",
      "  self.class_log_prior_ = (np.log(self.class_count_) -\n"
     ]
    }
   ],
   "source": [
    "def cross_val(data_variables, data_target, k):\n",
    "    #split the data and target df into k np arrays\n",
    "    data_splits = np.array_split(data_variables, k)\n",
    "    target_splits = np.array_split(data_target, k)\n",
    "    \n",
    "    #train the model with each ith holdout and test with each (i+1)th holdout and compute the scores\n",
    "    for i in range(k-1):\n",
    "        print('With Holdout {}:'.format(i) + str(bnb.fit(data_splits[i], target_splits[i]).score(data_splits[i+1], target_splits[i+1])))\n",
    "        \n",
    "#call the function on ou spam example\n",
    "cross_val(data, target, 100)"
   ]
  },
  {
   "cell_type": "markdown",
   "metadata": {},
   "source": [
    "Does this result suggest over fitting?"
   ]
  },
  {
   "cell_type": "markdown",
   "metadata": {},
   "source": [
    "#### Questions\n",
    "_Does the last cross validation result confirm over fitting? <br>\n",
    "_Why would model's accuracy drop after adding more keywords to the features? <br>\n",
    "_What if I remove a non performing feature? <br>\n"
   ]
  },
  {
   "cell_type": "code",
   "execution_count": null,
   "metadata": {},
   "outputs": [],
   "source": []
  }
 ],
 "metadata": {
  "kernelspec": {
   "display_name": "Python 3",
   "language": "python",
   "name": "python3"
  },
  "language_info": {
   "codemirror_mode": {
    "name": "ipython",
    "version": 3
   },
   "file_extension": ".py",
   "mimetype": "text/x-python",
   "name": "python",
   "nbconvert_exporter": "python",
   "pygments_lexer": "ipython3",
   "version": "3.6.2"
  }
 },
 "nbformat": 4,
 "nbformat_minor": 2
}
