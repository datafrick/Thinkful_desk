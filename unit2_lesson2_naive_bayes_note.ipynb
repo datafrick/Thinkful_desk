{
 "cells": [
  {
   "cell_type": "markdown",
   "metadata": {},
   "source": [
    "### Unit 2, Lesson 2 - Building Your First Model; Naive Bayes"
   ]
  },
  {
   "cell_type": "markdown",
   "metadata": {},
   "source": [
    "_**classification**and **regression** are the two main groups of supervised learning"
   ]
  },
  {
   "cell_type": "markdown",
   "metadata": {},
   "source": [
    "_**Classification;** \n",
    "Outcome variable is categorical. The outcome of a classifier will eithe assign a category to a given test observation or it will assign a probability of each category. With classifier, the only out come that will be seen as possible have to be in the trainning set. So if the test set has a value for the outcome variable that was not in the training set it will not be able to predict it correctly."
   ]
  },
  {
   "cell_type": "markdown",
   "metadata": {},
   "source": [
    "_**Regression;** \n",
    "_In contrast to classification, regression models have a continuous outcome variable. As such regressions can output either on a bounded or unbounded number line. Example variables that would work for regression would be something like amount spent which could range from 0 to some potentially very large observable max, or temperature which ranges from absolute zero to again observably high (though any model would likely concentrate output in a more specific region). Many regression techniques can give predictions even beyond observed maxima and minima, while others are more bounded."
   ]
  },
  {
   "cell_type": "markdown",
   "metadata": {},
   "source": [
    "#### Building your first model; Naive Bayes\n",
    "\n",
    "P(y|x) = P(y)P(x|y)/P(x)  = Bayes definition. \n",
    "_\"the probability of y given x equals the probability of y times the probability of x given y divided by the probability of x.\"\n",
    "\n",
    "This theorem can be extended to when x is a vector (containing the multiple x variables used as inputs for the model) to:\n",
    "\n",
    "P(y|x1,...,xn)=P(y)P(x1,...,xn|y)/P(x1,...,xn)\n",
    "\n",
    "_This explains the relationship of an outcome to a vector of conditions rather than to a single other event. Recall that this can be read as the probability of y, in the case of our model the categorical outcome we’re interested in, given a set of observations is equal to the probability of that set of observations given y divided by the probability of that set of outcomes.\n",
    "\n",
    "\n"
   ]
  },
  {
   "cell_type": "markdown",
   "metadata": {},
   "source": [
    "#### Naive\n",
    "_refers to the assumption that any pair of variables in the conditional vector (the x variables) are independent from each other. Thid condition allows us to break down P(x1|y) as below:\n",
    "\n",
    "P(y|x1,...,xn)=P(y)∗P(x1|y)∗...∗P(xn|y)/P(x1,...,xn)\n",
    "\n",
    "_We can even simplify further because for any observation we are attempting to predict, the x-vector will be constant, so that part of the probability simplifies out leaving: \n",
    "\n",
    "P(y|x1,...,xn)≈P(y)∗P(x1|y)∗...∗P(xn|y)\n",
    "\n",
    "_**assumption;** the huge assuption here is that the columns of our dataset(x) are independent, which is not normally true.\n",
    "\n",
    "_**Merit;** it is incredibly simple and fast\n"
   ]
  },
  {
   "cell_type": "markdown",
   "metadata": {},
   "source": [
    "#### Classifiers\n",
    "\n",
    "_There are three main classifiers: Bernoulli, Multinomial, and Gaussian Naive Bayes.\n",
    "\n",
    "_Each classifier assumes that the distribution of the conditional (the aforementioned P(xi|y)) is the given distribution.\n",
    "\n",
    "_**limitations.** A binomial only takes two possible values. A multinomial has discrete outcomes, and a Gaussian (also known as \"normal\") takes values along the continuous normal distribution. If your output variable distibution is yes or no for example youchoose Bernoulli, for something like ranking you choose Multinomial."
   ]
  },
  {
   "cell_type": "markdown",
   "metadata": {},
   "source": [
    "#### Improving Performance\n",
    "\n",
    "_draw out the right feature based on your domain knoledge. This is very important as feature in Naive Bayes are equally weighted, heavilly correclated features must be identified and treated accordingly."
   ]
  },
  {
   "cell_type": "markdown",
   "metadata": {},
   "source": [
    "#### Downsides of Naive Bayes\n",
    "\n",
    "_The first and most obvious downside of Naive Bayes is that assumption of independence.\n",
    "\n",
    "_Naive Bayes can only predict the outcome of categories it has seen before.Like all classifiers it cannot predict a class it hasn’t seen before."
   ]
  },
  {
   "cell_type": "markdown",
   "metadata": {},
   "source": [
    "#### Guided example: spam filter"
   ]
  },
  {
   "cell_type": "code",
   "execution_count": 79,
   "metadata": {},
   "outputs": [],
   "source": [
    "%matplotlib inline\n",
    "import numpy as np\n",
    "import pandas as pd\n",
    "import scipy\n",
    "import sklearn\n",
    "import matplotlib.pyplot as plt\n",
    "import seaborn as sns"
   ]
  },
  {
   "cell_type": "code",
   "execution_count": 80,
   "metadata": {},
   "outputs": [],
   "source": [
    "# Grab and process the raw data.\n",
    "data_path = (\"https://raw.githubusercontent.com/Thinkful-Ed/data-201-resources/\"\n",
    "             \"master/sms_spam_collection/SMSSpamCollection\"\n",
    "            )\n",
    "sms_raw = pd.read_csv(data_path, delimiter= '\\t', header=None)\n",
    "sms_raw.columns = ['spam', 'message']"
   ]
  },
  {
   "cell_type": "markdown",
   "metadata": {},
   "source": [
    "##### creating feature with know spam keywords"
   ]
  },
  {
   "cell_type": "code",
   "execution_count": 81,
   "metadata": {},
   "outputs": [],
   "source": [
    "keywords = ['click', 'offer', 'winner', 'buy', 'free', 'cash', 'urgent']\n",
    "\n",
    "for key in keywords:\n",
    "    # Note that we add spaces around the key so that we're getting the word,\n",
    "    # not just pattern matching.\n",
    "    sms_raw[str(key)] = sms_raw.message.str.contains(\n",
    "        ' ' + str(key) + ' ',\n",
    "        case=False\n",
    "    )"
   ]
  },
  {
   "cell_type": "markdown",
   "metadata": {},
   "source": [
    "##### what if the message contains all uppercase? It could make it a spam."
   ]
  },
  {
   "cell_type": "code",
   "execution_count": 82,
   "metadata": {},
   "outputs": [
    {
     "name": "stdout",
     "output_type": "stream",
     "text": [
      "   spam                                            message  click  offer  \\\n",
      "0   ham  Go until jurong point, crazy.. Available only ...  False  False   \n",
      "1   ham                      Ok lar... Joking wif u oni...  False  False   \n",
      "2  spam  Free entry in 2 a wkly comp to win FA Cup fina...  False  False   \n",
      "3   ham  U dun say so early hor... U c already then say...  False  False   \n",
      "4   ham  Nah I don't think he goes to usf, he lives aro...  False  False   \n",
      "\n",
      "   winner    buy   free   cash  urgent  allcaps  \n",
      "0   False  False  False  False   False    False  \n",
      "1   False  False  False  False   False    False  \n",
      "2   False  False  False  False   False    False  \n",
      "3   False  False  False  False   False    False  \n",
      "4   False  False  False  False   False    False  \n"
     ]
    }
   ],
   "source": [
    "sms_raw['allcaps'] = sms_raw.message.str.isupper()\n",
    "print(sms_raw.head())"
   ]
  },
  {
   "cell_type": "markdown",
   "metadata": {},
   "source": [
    "##### lets's check for correllation"
   ]
  },
  {
   "cell_type": "code",
   "execution_count": 83,
   "metadata": {},
   "outputs": [
    {
     "data": {
      "text/plain": [
       "<matplotlib.axes._subplots.AxesSubplot at 0x1c5baba4f28>"
      ]
     },
     "execution_count": 83,
     "metadata": {},
     "output_type": "execute_result"
    },
    {
     "data": {
      "image/png": "[encoded data removed]",
      "text/plain": [
       "<Figure size 432x288 with 2 Axes>"
      ]
     },
     "metadata": {
      "needs_background": "light"
     },
     "output_type": "display_data"
    }
   ],
   "source": [
    "sns.heatmap(sms_raw.corr())"
   ]
  },
  {
   "cell_type": "code",
   "execution_count": 84,
   "metadata": {},
   "outputs": [],
   "source": [
    "#This map is great, shows almost no correlation except for offer:free and winner:cash. We'll still keep them in our feeatures"
   ]
  },
  {
   "cell_type": "markdown",
   "metadata": {},
   "source": [
    "##### building the training data\n",
    "_SKlearn requires that we specify an outcome or dependent variable y and independent variable x which form the trainning set. This will be done under the title 'data' and 'target' below; "
   ]
  },
  {
   "cell_type": "code",
   "execution_count": 85,
   "metadata": {},
   "outputs": [
    {
     "name": "stdout",
     "output_type": "stream",
     "text": [
      "   click  offer  winner    buy   free   cash  urgent  allcaps\n",
      "0  False  False   False  False  False  False   False    False\n",
      "1  False  False   False  False  False  False   False    False\n",
      "2  False  False   False  False  False  False   False    False\n",
      "3  False  False   False  False  False  False   False    False\n",
      "4  False  False   False  False  False  False   False    False \n",
      "\n",
      "0     ham\n",
      "1     ham\n",
      "2    spam\n",
      "3     ham\n",
      "4     ham\n",
      "Name: spam, dtype: object\n"
     ]
    }
   ],
   "source": [
    "data = sms_raw[keywords + ['allcaps']]\n",
    "target = sms_raw['spam']\n",
    "\n",
    "print(data.head(), \"\\n\")\n",
    "print(target.head())"
   ]
  },
  {
   "cell_type": "markdown",
   "metadata": {},
   "source": [
    "##### choosing a classifier"
   ]
  },
  {
   "cell_type": "code",
   "execution_count": 86,
   "metadata": {},
   "outputs": [],
   "source": [
    "# Our data is binary / boolean (spam or ham), so we're importing the Bernoulli classifier.\n",
    "from sklearn.naive_bayes import BernoulliNB"
   ]
  },
  {
   "cell_type": "markdown",
   "metadata": {},
   "source": [
    "##### instantiate our model  with a new variable"
   ]
  },
  {
   "cell_type": "code",
   "execution_count": 87,
   "metadata": {},
   "outputs": [],
   "source": [
    "bnb = BernoulliNB()"
   ]
  },
  {
   "cell_type": "markdown",
   "metadata": {},
   "source": [
    "##### Fit our model to the data."
   ]
  },
  {
   "cell_type": "code",
   "execution_count": 88,
   "metadata": {},
   "outputs": [
    {
     "data": {
      "text/plain": [
       "BernoulliNB(alpha=1.0, binarize=0.0, class_prior=None, fit_prior=True)"
      ]
     },
     "execution_count": 88,
     "metadata": {},
     "output_type": "execute_result"
    }
   ],
   "source": [
    "bnb.fit(data, target)"
   ]
  },
  {
   "cell_type": "markdown",
   "metadata": {},
   "source": [
    "##### Classify, storing the result in a new variable."
   ]
  },
  {
   "cell_type": "code",
   "execution_count": 89,
   "metadata": {},
   "outputs": [
    {
     "name": "stdout",
     "output_type": "stream",
     "text": [
      "['ham' 'ham' 'ham' ... 'ham' 'ham' 'ham']\n"
     ]
    }
   ],
   "source": [
    "y_pred = bnb.predict(data)\n",
    "print(y_pred)\n"
   ]
  },
  {
   "cell_type": "markdown",
   "metadata": {},
   "source": [
    "##### Display our results."
   ]
  },
  {
   "cell_type": "code",
   "execution_count": 90,
   "metadata": {},
   "outputs": [
    {
     "name": "stdout",
     "output_type": "stream",
     "text": [
      "Number of mislabeled points out of a total 5572 points : 604\n"
     ]
    }
   ],
   "source": [
    "print(\"Number of mislabeled points out of a total {} points : {}\".format(\n",
    "    data.shape[0],\n",
    "    (target != y_pred).sum()\n",
    "    \n",
    "))"
   ]
  },
  {
   "cell_type": "code",
   "execution_count": null,
   "metadata": {},
   "outputs": [],
   "source": [
    "Bayesian Poisoning\n",
    "When implementing Naive Bayes, there is one more thing you must be aware of. Because Naive Bayes relies on probabilities\n",
    "and these probabilities are often based around obvious keywords it is a vulnerable model. By that we mean that people can\n",
    "manipulate the model. This is done through a process called Bayesian Poisoning.\n",
    "\n",
    "In spam, this would be done through including words in your spam message that would be highly unlikely to be part of a spam\n",
    "message. This would convince the model that the message is legitimate and let it into your inbox or wherever."
   ]
  },
  {
   "cell_type": "markdown",
   "metadata": {},
   "source": [
    "##### Bayesian Poisoning"
   ]
  },
  {
   "cell_type": "code",
   "execution_count": null,
   "metadata": {},
   "outputs": [],
   "source": [
    "#since Bayesian rely on the probability of obvious keywords, the system could be poisoned. In this example this could\n",
    "#be done by including words in the spam message that would highly unlikely to be a part of spam message (e.g spam). \n",
    "#this would convince the model that the messageis legitimate and let it into your inbox."
   ]
  },
  {
   "cell_type": "markdown",
   "metadata": {},
   "source": [
    "##### trying the Gausian classifier for the same problem"
   ]
  },
  {
   "cell_type": "code",
   "execution_count": 92,
   "metadata": {},
   "outputs": [
    {
     "name": "stdout",
     "output_type": "stream",
     "text": [
      "Number of mislabeled points out of a total 5572 points : 604\n"
     ]
    }
   ],
   "source": [
    "#import the Gaussian classifier and assign it to a new variable\n",
    "from sklearn.naive_bayes import GaussianNB\n",
    "gnb = GaussianNB()\n",
    "\n",
    "#load in the trianing dataset and target dataset\n",
    "gnb.fit(data, target)\n",
    "\n",
    "#predict\n",
    "y1_pred = bnb.predict(data)\n",
    "\n",
    "print(\"Number of mislabeled points out of a total {} points : {}\".format(\n",
    "    data.shape[0],\n",
    "    (target != y1_pred).sum()\n",
    "    \n",
    "))\n"
   ]
  },
  {
   "cell_type": "code",
   "execution_count": null,
   "metadata": {},
   "outputs": [],
   "source": [
    "#the result for both classfiers(Berboulli and Gaussian) are exactly the same for this system"
   ]
  }
 ],
 "metadata": {
  "kernelspec": {
   "display_name": "Python 3",
   "language": "python",
   "name": "python3"
  },
  "language_info": {
   "codemirror_mode": {
    "name": "ipython",
    "version": 3
   },
   "file_extension": ".py",
   "mimetype": "text/x-python",
   "name": "python",
   "nbconvert_exporter": "python",
   "pygments_lexer": "ipython3",
   "version": "3.6.2"
  }
 },
 "nbformat": 4,
 "nbformat_minor": 2
}
